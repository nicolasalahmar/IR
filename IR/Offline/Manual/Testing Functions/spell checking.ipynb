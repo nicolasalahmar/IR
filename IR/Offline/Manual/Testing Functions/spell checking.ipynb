{
 "cells": [
  {
   "metadata": {
    "ExecuteTime": {
     "end_time": "2024-04-28T17:43:11.484901Z",
     "start_time": "2024-04-28T17:43:11.481327Z"
    }
   },
   "cell_type": "code",
   "source": [
    "from datetime import datetime\n",
    "import sqlite3\n",
    "import string\n",
    "import re"
   ],
   "id": "e31eb3a9390d9804",
   "outputs": [],
   "execution_count": 44
  },
  {
   "metadata": {
    "ExecuteTime": {
     "end_time": "2024-04-28T17:43:11.497347Z",
     "start_time": "2024-04-28T17:43:11.491910Z"
    }
   },
   "cell_type": "code",
   "source": [
    "sqliteConnection1 = sqlite3.connect('../dataset1.db')\n",
    "cursor1 = sqliteConnection1.cursor()\n",
    "cursor1.execute(\"\"\"SELECT * FROM corpus LIMIT 5;\"\"\")\n",
    "records1 = cursor1.fetchall()\n",
    "records1 = [record[1] for record in records1]"
   ],
   "id": "3be6330579242596",
   "outputs": [],
   "execution_count": 45
  },
  {
   "metadata": {
    "ExecuteTime": {
     "end_time": "2024-04-28T17:43:11.503360Z",
     "start_time": "2024-04-28T17:43:11.499354Z"
    }
   },
   "cell_type": "code",
   "source": [
    "sqliteConnection2 = sqlite3.connect('../dataset2.db')\n",
    "cursor2 = sqliteConnection2.cursor()\n",
    "cursor2.execute(\"\"\"SELECT * FROM corpus LIMIT 5;\"\"\")\n",
    "records2 = cursor2.fetchall()\n",
    "records2 = [record[1] for record in records2]"
   ],
   "id": "b263c56df0ba6fb",
   "outputs": [],
   "execution_count": 46
  },
  {
   "metadata": {
    "ExecuteTime": {
     "end_time": "2024-04-28T17:43:11.507852Z",
     "start_time": "2024-04-28T17:43:11.504371Z"
    }
   },
   "cell_type": "code",
   "source": "records = records2",
   "id": "998cfea89bce31f2",
   "outputs": [],
   "execution_count": 47
  },
  {
   "metadata": {
    "ExecuteTime": {
     "end_time": "2024-04-28T17:43:24.396494Z",
     "start_time": "2024-04-28T17:43:11.509860Z"
    }
   },
   "cell_type": "code",
   "source": [
    "from spellchecker import SpellChecker\n",
    "from nltk.tokenize import word_tokenize\n",
    "from typing import List\n",
    "\n",
    "\n",
    "def correct_sentence_spelling(tokens: List[str]) -> List[str]:\n",
    "    spell = SpellChecker()\n",
    "    misspelled = spell.unknown(tokens)\n",
    "    for i, token in enumerate(tokens):\n",
    "        if token in misspelled:\n",
    "            corrected = spell.correction(token)\n",
    "            if corrected is not None:\n",
    "                tokens[i] = corrected\n",
    "    return tokens\n",
    "\n",
    "arr = []\n",
    "\n",
    "startTime = datetime.now()\n",
    "for record in records:\n",
    "    words = word_tokenize(record)\n",
    "    arr.append(correct_sentence_spelling(words))\n",
    "end_time = datetime.now()\n",
    "\n",
    "spell_checker_time = end_time - startTime"
   ],
   "id": "initial_id",
   "outputs": [],
   "execution_count": 48
  },
  {
   "metadata": {
    "ExecuteTime": {
     "end_time": "2024-04-28T17:43:26.102073Z",
     "start_time": "2024-04-28T17:43:24.398499Z"
    }
   },
   "cell_type": "code",
   "source": [
    "from autocorrect import Speller\n",
    "\n",
    "spell = Speller(lang='en')\n",
    "arr = []\n",
    "\n",
    "startTime = datetime.now()\n",
    "for record in records:\n",
    "    arr.append(spell(record))\n",
    "end_time = datetime.now()\n",
    "\n",
    "autocorrect_time = end_time - startTime"
   ],
   "id": "e231d07c37238e18",
   "outputs": [],
   "execution_count": 49
  },
  {
   "metadata": {
    "ExecuteTime": {
     "end_time": "2024-04-28T17:43:26.107821Z",
     "start_time": "2024-04-28T17:43:26.104077Z"
    }
   },
   "cell_type": "code",
   "source": [
    "print('autocorrect_time: ', autocorrect_time)\n",
    "print('spell_checker_time: ', spell_checker_time)"
   ],
   "id": "b0eba50008df1e82",
   "outputs": [
    {
     "name": "stdout",
     "output_type": "stream",
     "text": [
      "autocorrect_time:  0:00:01.644982\n",
      "spell_checker_time:  0:00:12.881250\n"
     ]
    }
   ],
   "execution_count": 50
  }
 ],
 "metadata": {
  "kernelspec": {
   "display_name": "Python 3",
   "language": "python",
   "name": "python3"
  },
  "language_info": {
   "codemirror_mode": {
    "name": "ipython",
    "version": 2
   },
   "file_extension": ".py",
   "mimetype": "text/x-python",
   "name": "python",
   "nbconvert_exporter": "python",
   "pygments_lexer": "ipython2",
   "version": "2.7.6"
  }
 },
 "nbformat": 4,
 "nbformat_minor": 5
}
