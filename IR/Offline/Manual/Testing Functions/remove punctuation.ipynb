{
 "cells": [
  {
   "metadata": {
    "ExecuteTime": {
     "end_time": "2024-04-30T16:57:42.329061Z",
     "start_time": "2024-04-30T16:57:42.317174Z"
    }
   },
   "cell_type": "code",
   "source": [
    "from datetime import datetime\n",
    "import string\n",
    "import re"
   ],
   "id": "b7f68f0176139a91",
   "execution_count": 9,
   "outputs": []
  },
  {
   "metadata": {
    "ExecuteTime": {
     "end_time": "2024-04-30T16:57:42.538385Z",
     "start_time": "2024-04-30T16:57:42.331580Z"
    }
   },
   "cell_type": "code",
   "source": [
    "from Offline.Helper.ORM import fetch_records\n",
    "\n",
    "records1 = fetch_records('../dataset1.db', 10000)\n",
    "records1 = [record.text for record in records1]"
   ],
   "id": "initial_id",
   "execution_count": 10,
   "outputs": []
  },
  {
   "metadata": {
    "ExecuteTime": {
     "end_time": "2024-04-30T16:57:42.711201Z",
     "start_time": "2024-04-30T16:57:42.540390Z"
    }
   },
   "cell_type": "code",
   "source": [
    "from Offline.Helper.ORM import fetch_records\n",
    "\n",
    "records2 = fetch_records('../dataset2.db', 10000)\n",
    "records2 = [record.text for record in records2]"
   ],
   "id": "a14453cb420e02f3",
   "execution_count": 11,
   "outputs": []
  },
  {
   "metadata": {
    "ExecuteTime": {
     "end_time": "2024-04-30T16:57:42.719340Z",
     "start_time": "2024-04-30T16:57:42.713223Z"
    }
   },
   "cell_type": "code",
   "source": "records = records2",
   "id": "d42c0a5e3402cfae",
   "execution_count": 12,
   "outputs": []
  },
  {
   "metadata": {
    "ExecuteTime": {
     "end_time": "2024-04-30T16:57:42.915025Z",
     "start_time": "2024-04-30T16:57:42.725359Z"
    }
   },
   "cell_type": "code",
   "source": [
    "result_trans = []\n",
    "\n",
    "startTime = datetime.now()\n",
    "for test_str in records:\n",
    "  result_trans.append(test_str.translate(str.maketrans('', '', string.punctuation)))\n",
    "end_time = datetime.now()\n",
    "\n",
    "trans_time = end_time - startTime"
   ],
   "id": "174ba736069fca85",
   "execution_count": 13,
   "outputs": []
  },
  {
   "metadata": {
    "ExecuteTime": {
     "end_time": "2024-04-30T16:57:44.591119Z",
     "start_time": "2024-04-30T16:57:42.918032Z"
    }
   },
   "cell_type": "code",
   "source": [
    "def remove_punctuation(test_str):\n",
    "  result = ''.join(filter(lambda x: x.isalpha() or x.isdigit() or x.isspace(), test_str))\n",
    "  return result\n",
    "\n",
    "result_lambda = []\n",
    "startTime = datetime.now()\n",
    "for test_str in records:\n",
    "  result_lambda.append(remove_punctuation(test_str))\n",
    "end_time = datetime.now()\n",
    "\n",
    "lambda_time = end_time - startTime"
   ],
   "id": "e8499d60874dd872",
   "execution_count": 14,
   "outputs": []
  },
  {
   "metadata": {
    "ExecuteTime": {
     "end_time": "2024-04-30T16:57:44.771713Z",
     "start_time": "2024-04-30T16:57:44.592127Z"
    }
   },
   "cell_type": "code",
   "source": [
    "result_regex = []\n",
    "startTime = datetime.now()\n",
    "for test_str in records:\n",
    "  result_regex.append(re.sub(r'[^\\w\\s]', '', test_str))\n",
    "end_time = datetime.now()\n",
    "\n",
    "regex_time = end_time - startTime"
   ],
   "id": "4498dab45ae9c190",
   "execution_count": 15,
   "outputs": []
  },
  {
   "metadata": {
    "ExecuteTime": {
     "end_time": "2024-04-30T16:57:44.779028Z",
     "start_time": "2024-04-30T16:57:44.773719Z"
    }
   },
   "cell_type": "code",
   "source": [
    "print(\"regex_time:\", regex_time)\n",
    "print(\"trans_time:\", trans_time)\n",
    "print(\"lambda_time:\", lambda_time)"
   ],
   "id": "8e641e8b33cf4ad6",
   "execution_count": 16,
   "outputs": []
  }
 ],
 "metadata": {
  "kernelspec": {
   "display_name": "Python 3",
   "language": "python",
   "name": "python3"
  },
  "language_info": {
   "codemirror_mode": {
    "name": "ipython",
    "version": 2
   },
   "file_extension": ".py",
   "mimetype": "text/x-python",
   "name": "python",
   "nbconvert_exporter": "python",
   "pygments_lexer": "ipython2",
   "version": "2.7.6"
  }
 },
 "nbformat": 4,
 "nbformat_minor": 5
}
