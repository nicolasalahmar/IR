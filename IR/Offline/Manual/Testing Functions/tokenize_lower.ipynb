{
 "cells": [
  {
   "cell_type": "code",
   "id": "initial_id",
   "metadata": {
    "collapsed": true,
    "ExecuteTime": {
     "end_time": "2024-04-28T10:40:20.086569Z",
     "start_time": "2024-04-28T10:40:19.483365Z"
    }
   },
   "source": [
    "from datetime import datetime\n",
    "import sqlite3\n",
    "from nltk.tokenize import word_tokenize\n",
    "\n",
    "sqliteConnection1 = sqlite3.connect('../dataset1.db')\n",
    "cursor1 = sqliteConnection1.cursor()\n",
    "\n",
    "cursor1.execute(\"\"\"SELECT * FROM corpus LIMIT 1000;\"\"\")\n",
    "records1 = cursor1.fetchall()\n",
    "records1 = [record[1] for record in records1]\n",
    "sqliteConnection2 = sqlite3.connect('../dataset2.db')\n",
    "cursor2 = sqliteConnection2.cursor()\n",
    "\n",
    "cursor2.execute(\"\"\"SELECT * FROM corpus LIMIT 1000;\"\"\")\n",
    "records2 = cursor2.fetchall()\n",
    "records2 = [record[1] for record in records2]"
   ],
   "outputs": [],
   "execution_count": 7
  },
  {
   "metadata": {
    "ExecuteTime": {
     "end_time": "2024-04-28T10:40:21.059226Z",
     "start_time": "2024-04-28T10:40:21.048634Z"
    }
   },
   "cell_type": "code",
   "source": "records = records1",
   "id": "88f2ba6830e6f892",
   "outputs": [],
   "execution_count": 8
  },
  {
   "metadata": {
    "ExecuteTime": {
     "end_time": "2024-04-28T10:40:48.122784Z",
     "start_time": "2024-04-28T10:40:23.063813Z"
    }
   },
   "cell_type": "code",
   "source": [
    "startTime = datetime.now()\n",
    "for record in records:\n",
    "  record = record.lower()\n",
    "  word_tokenize(record)\n",
    "end_time = datetime.now()\n",
    "print(end_time - startTime)"
   ],
   "id": "7bd3e3be6990e822",
   "outputs": [
    {
     "name": "stdout",
     "output_type": "stream",
     "text": [
      "0:00:25.055892\n"
     ]
    }
   ],
   "execution_count": 9
  },
  {
   "metadata": {
    "ExecuteTime": {
     "end_time": "2024-04-28T10:41:21.155426Z",
     "start_time": "2024-04-28T10:40:55.353283Z"
    }
   },
   "cell_type": "code",
   "source": [
    "startTime = datetime.now()\n",
    "for record in records:\n",
    "\tarr = word_tokenize(record)\n",
    "\tfor w in arr:\n",
    "\t\tw.lower()\n",
    "end_time = datetime.now()\n",
    "print(end_time - startTime)"
   ],
   "id": "87312bcb859cd968",
   "outputs": [
    {
     "name": "stdout",
     "output_type": "stream",
     "text": [
      "0:00:25.798250\n"
     ]
    }
   ],
   "execution_count": 10
  }
 ],
 "metadata": {
  "kernelspec": {
   "display_name": "Python 3",
   "language": "python",
   "name": "python3"
  },
  "language_info": {
   "codemirror_mode": {
    "name": "ipython",
    "version": 2
   },
   "file_extension": ".py",
   "mimetype": "text/x-python",
   "name": "python",
   "nbconvert_exporter": "python",
   "pygments_lexer": "ipython2",
   "version": "2.7.6"
  }
 },
 "nbformat": 4,
 "nbformat_minor": 5
}
