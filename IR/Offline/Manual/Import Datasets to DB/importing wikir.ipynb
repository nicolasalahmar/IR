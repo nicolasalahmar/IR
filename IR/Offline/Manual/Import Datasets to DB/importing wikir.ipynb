{
 "cells": [
  {
   "metadata": {
    "ExecuteTime": {
     "end_time": "2024-04-29T05:46:43.623429Z",
     "start_time": "2024-04-29T05:46:43.614318Z"
    }
   },
   "cell_type": "code",
   "source": [
    "import csv\n",
    "import datetime\n",
    "import sqlite3"
   ],
   "id": "976ad057624c1121",
   "execution_count": 1,
   "outputs": []
  },
  {
   "metadata": {},
   "cell_type": "markdown",
   "source": "## DB Connection",
   "id": "c7602a807da297c8"
  },
  {
   "metadata": {
    "ExecuteTime": {
     "end_time": "2024-04-29T05:47:46.517193Z",
     "start_time": "2024-04-29T05:47:46.511113Z"
    }
   },
   "cell_type": "code",
   "source": [
    "sqliteConnection = sqlite3.connect('../../dataset2.db')\n",
    "cursor = sqliteConnection.cursor()\n",
    "file = open('documents.csv', mode ='r')\n",
    "csvFile = csv.reader(file)\n",
    "\n",
    "cursor.execute('CREATE TABLE IF NOT EXISTS corpus (id TEXT PRIMARY KEY, TEXT TEXT);')\n",
    "sqliteConnection.commit()"
   ],
   "id": "initial_id",
   "execution_count": 3,
   "outputs": []
  },
  {
   "metadata": {},
   "cell_type": "markdown",
   "source": "## IMPORT",
   "id": "2d53fc48196b1c05"
  },
  {
   "metadata": {
    "ExecuteTime": {
     "end_time": "2024-04-24T17:36:29.129468Z",
     "start_time": "2024-04-24T17:34:10.144929Z"
    }
   },
   "cell_type": "code",
   "source": [
    "def process(vals, cursor):\n",
    "        query = 'INSERT INTO corpus VALUES' + vals[:-1] + ';'\n",
    "        cursor.execute(query)\n",
    "        sqliteConnection.commit()\n",
    "        b = datetime.datetime.now()\n",
    "        print(str(index) + f' rows written in {b-a} time')\n",
    "\n",
    "vals = ''\n",
    "a = datetime.datetime.now()\n",
    "next(csvFile)\n",
    "\n",
    "for index, line in enumerate(csvFile):        \n",
    "    text = line[1].replace('\"', '\"\"')\n",
    "    vals = vals + f' (\"{line[0]}\", \"{text}\"),'\n",
    "    if index % 2000 == 0 and index != 0:\n",
    "        process(vals, cursor)\n",
    "        vals = ''\n",
    "    \n",
    "process(vals, cursor)    "
   ],
   "id": "a3ac1490074a4698",
   "execution_count": 17,
   "outputs": []
  },
  {
   "metadata": {},
   "cell_type": "markdown",
   "source": "## Close DB Connection",
   "id": "830ac1dbb42f7291"
  },
  {
   "metadata": {
    "ExecuteTime": {
     "end_time": "2024-04-29T05:48:04.865292Z",
     "start_time": "2024-04-29T05:48:04.859852Z"
    }
   },
   "cell_type": "code",
   "source": [
    "cursor.close()\n",
    "sqliteConnection.close()\n",
    "file.close()"
   ],
   "id": "d65db951ab4c52ee",
   "execution_count": 4,
   "outputs": []
  }
 ],
 "metadata": {
  "kernelspec": {
   "display_name": "Python 3",
   "language": "python",
   "name": "python3"
  },
  "language_info": {
   "codemirror_mode": {
    "name": "ipython",
    "version": 2
   },
   "file_extension": ".py",
   "mimetype": "text/x-python",
   "name": "python",
   "nbconvert_exporter": "python",
   "pygments_lexer": "ipython2",
   "version": "2.7.6"
  }
 },
 "nbformat": 4,
 "nbformat_minor": 5
}
